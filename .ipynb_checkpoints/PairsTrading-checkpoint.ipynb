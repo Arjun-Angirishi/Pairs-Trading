{
 "cells": [
  {
   "cell_type": "markdown",
   "metadata": {
    "id": "ePxw6mmf82cP"
   },
   "source": [
    "# Pairs Trading Algorithm\n",
    "\n",
    "Done by :-\n",
    "* Arjun Angirishi 20112023\n",
    "* Aryan Chaturvedi 20112024\n",
    "* Abhay Singh 2011500\n",
    "\n",
    "Under Assistant Prof Sumit Kumar Yadav\n",
    "\n"
   ]
  },
  {
   "cell_type": "code",
   "execution_count": 1,
   "metadata": {
    "colab": {
     "base_uri": "https://localhost:8080/"
    },
    "id": "v1zF7EPtLwYD",
    "outputId": "b8e69665-16d1-437e-ede5-7e4a816c34a3"
   },
   "outputs": [
    {
     "name": "stdout",
     "output_type": "stream",
     "text": [
      "Defaulting to user installation because normal site-packages is not writeable\n",
      "Requirement already satisfied: yfinance in c:\\users\\arjun\\appdata\\roaming\\python\\python39\\site-packages (0.2.18)\n",
      "Requirement already satisfied: lxml>=4.9.1 in c:\\users\\arjun\\appdata\\roaming\\python\\python39\\site-packages (from yfinance) (4.9.2)\n",
      "Requirement already satisfied: numpy>=1.16.5 in c:\\programdata\\anaconda3\\lib\\site-packages (from yfinance) (1.21.5)\n",
      "Requirement already satisfied: requests>=2.26 in c:\\programdata\\anaconda3\\lib\\site-packages (from yfinance) (2.27.1)\n",
      "Requirement already satisfied: multitasking>=0.0.7 in c:\\users\\arjun\\appdata\\roaming\\python\\python39\\site-packages (from yfinance) (0.0.11)\n",
      "Requirement already satisfied: cryptography>=3.3.2 in c:\\programdata\\anaconda3\\lib\\site-packages (from yfinance) (3.4.8)\n",
      "Requirement already satisfied: pytz>=2022.5 in c:\\users\\arjun\\appdata\\roaming\\python\\python39\\site-packages (from yfinance) (2023.3)\n",
      "Requirement already satisfied: frozendict>=2.3.4 in c:\\users\\arjun\\appdata\\roaming\\python\\python39\\site-packages (from yfinance) (2.3.8)\n",
      "Requirement already satisfied: html5lib>=1.1 in c:\\users\\arjun\\appdata\\roaming\\python\\python39\\site-packages (from yfinance) (1.1)\n",
      "Requirement already satisfied: appdirs>=1.4.4 in c:\\programdata\\anaconda3\\lib\\site-packages (from yfinance) (1.4.4)\n",
      "Requirement already satisfied: beautifulsoup4>=4.11.1 in c:\\programdata\\anaconda3\\lib\\site-packages (from yfinance) (4.11.1)\n",
      "Requirement already satisfied: pandas>=1.3.0 in c:\\programdata\\anaconda3\\lib\\site-packages (from yfinance) (1.4.2)\n",
      "Requirement already satisfied: soupsieve>1.2 in c:\\programdata\\anaconda3\\lib\\site-packages (from beautifulsoup4>=4.11.1->yfinance) (2.3.1)\n",
      "Requirement already satisfied: cffi>=1.12 in c:\\programdata\\anaconda3\\lib\\site-packages (from cryptography>=3.3.2->yfinance) (1.15.0)\n",
      "Requirement already satisfied: pycparser in c:\\programdata\\anaconda3\\lib\\site-packages (from cffi>=1.12->cryptography>=3.3.2->yfinance) (2.21)\n",
      "Requirement already satisfied: six>=1.9 in c:\\programdata\\anaconda3\\lib\\site-packages (from html5lib>=1.1->yfinance) (1.16.0)\n",
      "Requirement already satisfied: webencodings in c:\\programdata\\anaconda3\\lib\\site-packages (from html5lib>=1.1->yfinance) (0.5.1)\n",
      "Requirement already satisfied: python-dateutil>=2.8.1 in c:\\programdata\\anaconda3\\lib\\site-packages (from pandas>=1.3.0->yfinance) (2.8.2)\n",
      "Requirement already satisfied: charset-normalizer~=2.0.0 in c:\\programdata\\anaconda3\\lib\\site-packages (from requests>=2.26->yfinance) (2.0.4)\n",
      "Requirement already satisfied: certifi>=2017.4.17 in c:\\programdata\\anaconda3\\lib\\site-packages (from requests>=2.26->yfinance) (2021.10.8)\n",
      "Requirement already satisfied: urllib3<1.27,>=1.21.1 in c:\\programdata\\anaconda3\\lib\\site-packages (from requests>=2.26->yfinance) (1.26.9)\n",
      "Requirement already satisfied: idna<4,>=2.5 in c:\\programdata\\anaconda3\\lib\\site-packages (from requests>=2.26->yfinance) (3.3)\n"
     ]
    }
   ],
   "source": [
    "#installing necessary yfinance library for importing the stock data\n",
    "!pip install yfinance"
   ]
  },
  {
   "cell_type": "code",
   "execution_count": 2,
   "metadata": {
    "id": "ifqhZgtpP7ei"
   },
   "outputs": [
    {
     "ename": "FileNotFoundError",
     "evalue": "[Errno 2] No such file or directory: '/content/gdrive/MyDrive/ind_nifty500list.csv'",
     "output_type": "error",
     "traceback": [
      "\u001b[1;31m---------------------------------------------------------------------------\u001b[0m",
      "\u001b[1;31mFileNotFoundError\u001b[0m                         Traceback (most recent call last)",
      "Input \u001b[1;32mIn [2]\u001b[0m, in \u001b[0;36m<cell line: 4>\u001b[1;34m()\u001b[0m\n\u001b[0;32m      1\u001b[0m \u001b[38;5;66;03m# Reading the csv file containing top 500 companies on nifty. The file can be founded on https://www.nseindia.com/products-services/indices-nifty500-index\u001b[39;00m\n\u001b[0;32m      3\u001b[0m \u001b[38;5;28;01mimport\u001b[39;00m \u001b[38;5;21;01mpandas\u001b[39;00m \u001b[38;5;28;01mas\u001b[39;00m \u001b[38;5;21;01mpd\u001b[39;00m\n\u001b[1;32m----> 4\u001b[0m nse500\u001b[38;5;241m=\u001b[39m\u001b[43mpd\u001b[49m\u001b[38;5;241;43m.\u001b[39;49m\u001b[43mread_csv\u001b[49m\u001b[43m(\u001b[49m\u001b[38;5;124;43m'\u001b[39;49m\u001b[38;5;124;43m/content/gdrive/MyDrive/ind_nifty500list.csv\u001b[39;49m\u001b[38;5;124;43m'\u001b[39;49m\u001b[43m)\u001b[49m\n",
      "File \u001b[1;32mC:\\ProgramData\\Anaconda3\\lib\\site-packages\\pandas\\util\\_decorators.py:311\u001b[0m, in \u001b[0;36mdeprecate_nonkeyword_arguments.<locals>.decorate.<locals>.wrapper\u001b[1;34m(*args, **kwargs)\u001b[0m\n\u001b[0;32m    305\u001b[0m \u001b[38;5;28;01mif\u001b[39;00m \u001b[38;5;28mlen\u001b[39m(args) \u001b[38;5;241m>\u001b[39m num_allow_args:\n\u001b[0;32m    306\u001b[0m     warnings\u001b[38;5;241m.\u001b[39mwarn(\n\u001b[0;32m    307\u001b[0m         msg\u001b[38;5;241m.\u001b[39mformat(arguments\u001b[38;5;241m=\u001b[39marguments),\n\u001b[0;32m    308\u001b[0m         \u001b[38;5;167;01mFutureWarning\u001b[39;00m,\n\u001b[0;32m    309\u001b[0m         stacklevel\u001b[38;5;241m=\u001b[39mstacklevel,\n\u001b[0;32m    310\u001b[0m     )\n\u001b[1;32m--> 311\u001b[0m \u001b[38;5;28;01mreturn\u001b[39;00m func(\u001b[38;5;241m*\u001b[39margs, \u001b[38;5;241m*\u001b[39m\u001b[38;5;241m*\u001b[39mkwargs)\n",
      "File \u001b[1;32mC:\\ProgramData\\Anaconda3\\lib\\site-packages\\pandas\\io\\parsers\\readers.py:680\u001b[0m, in \u001b[0;36mread_csv\u001b[1;34m(filepath_or_buffer, sep, delimiter, header, names, index_col, usecols, squeeze, prefix, mangle_dupe_cols, dtype, engine, converters, true_values, false_values, skipinitialspace, skiprows, skipfooter, nrows, na_values, keep_default_na, na_filter, verbose, skip_blank_lines, parse_dates, infer_datetime_format, keep_date_col, date_parser, dayfirst, cache_dates, iterator, chunksize, compression, thousands, decimal, lineterminator, quotechar, quoting, doublequote, escapechar, comment, encoding, encoding_errors, dialect, error_bad_lines, warn_bad_lines, on_bad_lines, delim_whitespace, low_memory, memory_map, float_precision, storage_options)\u001b[0m\n\u001b[0;32m    665\u001b[0m kwds_defaults \u001b[38;5;241m=\u001b[39m _refine_defaults_read(\n\u001b[0;32m    666\u001b[0m     dialect,\n\u001b[0;32m    667\u001b[0m     delimiter,\n\u001b[1;32m   (...)\u001b[0m\n\u001b[0;32m    676\u001b[0m     defaults\u001b[38;5;241m=\u001b[39m{\u001b[38;5;124m\"\u001b[39m\u001b[38;5;124mdelimiter\u001b[39m\u001b[38;5;124m\"\u001b[39m: \u001b[38;5;124m\"\u001b[39m\u001b[38;5;124m,\u001b[39m\u001b[38;5;124m\"\u001b[39m},\n\u001b[0;32m    677\u001b[0m )\n\u001b[0;32m    678\u001b[0m kwds\u001b[38;5;241m.\u001b[39mupdate(kwds_defaults)\n\u001b[1;32m--> 680\u001b[0m \u001b[38;5;28;01mreturn\u001b[39;00m \u001b[43m_read\u001b[49m\u001b[43m(\u001b[49m\u001b[43mfilepath_or_buffer\u001b[49m\u001b[43m,\u001b[49m\u001b[43m \u001b[49m\u001b[43mkwds\u001b[49m\u001b[43m)\u001b[49m\n",
      "File \u001b[1;32mC:\\ProgramData\\Anaconda3\\lib\\site-packages\\pandas\\io\\parsers\\readers.py:575\u001b[0m, in \u001b[0;36m_read\u001b[1;34m(filepath_or_buffer, kwds)\u001b[0m\n\u001b[0;32m    572\u001b[0m _validate_names(kwds\u001b[38;5;241m.\u001b[39mget(\u001b[38;5;124m\"\u001b[39m\u001b[38;5;124mnames\u001b[39m\u001b[38;5;124m\"\u001b[39m, \u001b[38;5;28;01mNone\u001b[39;00m))\n\u001b[0;32m    574\u001b[0m \u001b[38;5;66;03m# Create the parser.\u001b[39;00m\n\u001b[1;32m--> 575\u001b[0m parser \u001b[38;5;241m=\u001b[39m TextFileReader(filepath_or_buffer, \u001b[38;5;241m*\u001b[39m\u001b[38;5;241m*\u001b[39mkwds)\n\u001b[0;32m    577\u001b[0m \u001b[38;5;28;01mif\u001b[39;00m chunksize \u001b[38;5;129;01mor\u001b[39;00m iterator:\n\u001b[0;32m    578\u001b[0m     \u001b[38;5;28;01mreturn\u001b[39;00m parser\n",
      "File \u001b[1;32mC:\\ProgramData\\Anaconda3\\lib\\site-packages\\pandas\\io\\parsers\\readers.py:933\u001b[0m, in \u001b[0;36mTextFileReader.__init__\u001b[1;34m(self, f, engine, **kwds)\u001b[0m\n\u001b[0;32m    930\u001b[0m     \u001b[38;5;28mself\u001b[39m\u001b[38;5;241m.\u001b[39moptions[\u001b[38;5;124m\"\u001b[39m\u001b[38;5;124mhas_index_names\u001b[39m\u001b[38;5;124m\"\u001b[39m] \u001b[38;5;241m=\u001b[39m kwds[\u001b[38;5;124m\"\u001b[39m\u001b[38;5;124mhas_index_names\u001b[39m\u001b[38;5;124m\"\u001b[39m]\n\u001b[0;32m    932\u001b[0m \u001b[38;5;28mself\u001b[39m\u001b[38;5;241m.\u001b[39mhandles: IOHandles \u001b[38;5;241m|\u001b[39m \u001b[38;5;28;01mNone\u001b[39;00m \u001b[38;5;241m=\u001b[39m \u001b[38;5;28;01mNone\u001b[39;00m\n\u001b[1;32m--> 933\u001b[0m \u001b[38;5;28mself\u001b[39m\u001b[38;5;241m.\u001b[39m_engine \u001b[38;5;241m=\u001b[39m \u001b[38;5;28;43mself\u001b[39;49m\u001b[38;5;241;43m.\u001b[39;49m\u001b[43m_make_engine\u001b[49m\u001b[43m(\u001b[49m\u001b[43mf\u001b[49m\u001b[43m,\u001b[49m\u001b[43m \u001b[49m\u001b[38;5;28;43mself\u001b[39;49m\u001b[38;5;241;43m.\u001b[39;49m\u001b[43mengine\u001b[49m\u001b[43m)\u001b[49m\n",
      "File \u001b[1;32mC:\\ProgramData\\Anaconda3\\lib\\site-packages\\pandas\\io\\parsers\\readers.py:1217\u001b[0m, in \u001b[0;36mTextFileReader._make_engine\u001b[1;34m(self, f, engine)\u001b[0m\n\u001b[0;32m   1213\u001b[0m     mode \u001b[38;5;241m=\u001b[39m \u001b[38;5;124m\"\u001b[39m\u001b[38;5;124mrb\u001b[39m\u001b[38;5;124m\"\u001b[39m\n\u001b[0;32m   1214\u001b[0m \u001b[38;5;66;03m# error: No overload variant of \"get_handle\" matches argument types\u001b[39;00m\n\u001b[0;32m   1215\u001b[0m \u001b[38;5;66;03m# \"Union[str, PathLike[str], ReadCsvBuffer[bytes], ReadCsvBuffer[str]]\"\u001b[39;00m\n\u001b[0;32m   1216\u001b[0m \u001b[38;5;66;03m# , \"str\", \"bool\", \"Any\", \"Any\", \"Any\", \"Any\", \"Any\"\u001b[39;00m\n\u001b[1;32m-> 1217\u001b[0m \u001b[38;5;28mself\u001b[39m\u001b[38;5;241m.\u001b[39mhandles \u001b[38;5;241m=\u001b[39m \u001b[43mget_handle\u001b[49m\u001b[43m(\u001b[49m\u001b[43m  \u001b[49m\u001b[38;5;66;43;03m# type: ignore[call-overload]\u001b[39;49;00m\n\u001b[0;32m   1218\u001b[0m \u001b[43m    \u001b[49m\u001b[43mf\u001b[49m\u001b[43m,\u001b[49m\n\u001b[0;32m   1219\u001b[0m \u001b[43m    \u001b[49m\u001b[43mmode\u001b[49m\u001b[43m,\u001b[49m\n\u001b[0;32m   1220\u001b[0m \u001b[43m    \u001b[49m\u001b[43mencoding\u001b[49m\u001b[38;5;241;43m=\u001b[39;49m\u001b[38;5;28;43mself\u001b[39;49m\u001b[38;5;241;43m.\u001b[39;49m\u001b[43moptions\u001b[49m\u001b[38;5;241;43m.\u001b[39;49m\u001b[43mget\u001b[49m\u001b[43m(\u001b[49m\u001b[38;5;124;43m\"\u001b[39;49m\u001b[38;5;124;43mencoding\u001b[39;49m\u001b[38;5;124;43m\"\u001b[39;49m\u001b[43m,\u001b[49m\u001b[43m \u001b[49m\u001b[38;5;28;43;01mNone\u001b[39;49;00m\u001b[43m)\u001b[49m\u001b[43m,\u001b[49m\n\u001b[0;32m   1221\u001b[0m \u001b[43m    \u001b[49m\u001b[43mcompression\u001b[49m\u001b[38;5;241;43m=\u001b[39;49m\u001b[38;5;28;43mself\u001b[39;49m\u001b[38;5;241;43m.\u001b[39;49m\u001b[43moptions\u001b[49m\u001b[38;5;241;43m.\u001b[39;49m\u001b[43mget\u001b[49m\u001b[43m(\u001b[49m\u001b[38;5;124;43m\"\u001b[39;49m\u001b[38;5;124;43mcompression\u001b[39;49m\u001b[38;5;124;43m\"\u001b[39;49m\u001b[43m,\u001b[49m\u001b[43m \u001b[49m\u001b[38;5;28;43;01mNone\u001b[39;49;00m\u001b[43m)\u001b[49m\u001b[43m,\u001b[49m\n\u001b[0;32m   1222\u001b[0m \u001b[43m    \u001b[49m\u001b[43mmemory_map\u001b[49m\u001b[38;5;241;43m=\u001b[39;49m\u001b[38;5;28;43mself\u001b[39;49m\u001b[38;5;241;43m.\u001b[39;49m\u001b[43moptions\u001b[49m\u001b[38;5;241;43m.\u001b[39;49m\u001b[43mget\u001b[49m\u001b[43m(\u001b[49m\u001b[38;5;124;43m\"\u001b[39;49m\u001b[38;5;124;43mmemory_map\u001b[39;49m\u001b[38;5;124;43m\"\u001b[39;49m\u001b[43m,\u001b[49m\u001b[43m \u001b[49m\u001b[38;5;28;43;01mFalse\u001b[39;49;00m\u001b[43m)\u001b[49m\u001b[43m,\u001b[49m\n\u001b[0;32m   1223\u001b[0m \u001b[43m    \u001b[49m\u001b[43mis_text\u001b[49m\u001b[38;5;241;43m=\u001b[39;49m\u001b[43mis_text\u001b[49m\u001b[43m,\u001b[49m\n\u001b[0;32m   1224\u001b[0m \u001b[43m    \u001b[49m\u001b[43merrors\u001b[49m\u001b[38;5;241;43m=\u001b[39;49m\u001b[38;5;28;43mself\u001b[39;49m\u001b[38;5;241;43m.\u001b[39;49m\u001b[43moptions\u001b[49m\u001b[38;5;241;43m.\u001b[39;49m\u001b[43mget\u001b[49m\u001b[43m(\u001b[49m\u001b[38;5;124;43m\"\u001b[39;49m\u001b[38;5;124;43mencoding_errors\u001b[39;49m\u001b[38;5;124;43m\"\u001b[39;49m\u001b[43m,\u001b[49m\u001b[43m \u001b[49m\u001b[38;5;124;43m\"\u001b[39;49m\u001b[38;5;124;43mstrict\u001b[39;49m\u001b[38;5;124;43m\"\u001b[39;49m\u001b[43m)\u001b[49m\u001b[43m,\u001b[49m\n\u001b[0;32m   1225\u001b[0m \u001b[43m    \u001b[49m\u001b[43mstorage_options\u001b[49m\u001b[38;5;241;43m=\u001b[39;49m\u001b[38;5;28;43mself\u001b[39;49m\u001b[38;5;241;43m.\u001b[39;49m\u001b[43moptions\u001b[49m\u001b[38;5;241;43m.\u001b[39;49m\u001b[43mget\u001b[49m\u001b[43m(\u001b[49m\u001b[38;5;124;43m\"\u001b[39;49m\u001b[38;5;124;43mstorage_options\u001b[39;49m\u001b[38;5;124;43m\"\u001b[39;49m\u001b[43m,\u001b[49m\u001b[43m \u001b[49m\u001b[38;5;28;43;01mNone\u001b[39;49;00m\u001b[43m)\u001b[49m\u001b[43m,\u001b[49m\n\u001b[0;32m   1226\u001b[0m \u001b[43m\u001b[49m\u001b[43m)\u001b[49m\n\u001b[0;32m   1227\u001b[0m \u001b[38;5;28;01massert\u001b[39;00m \u001b[38;5;28mself\u001b[39m\u001b[38;5;241m.\u001b[39mhandles \u001b[38;5;129;01mis\u001b[39;00m \u001b[38;5;129;01mnot\u001b[39;00m \u001b[38;5;28;01mNone\u001b[39;00m\n\u001b[0;32m   1228\u001b[0m f \u001b[38;5;241m=\u001b[39m \u001b[38;5;28mself\u001b[39m\u001b[38;5;241m.\u001b[39mhandles\u001b[38;5;241m.\u001b[39mhandle\n",
      "File \u001b[1;32mC:\\ProgramData\\Anaconda3\\lib\\site-packages\\pandas\\io\\common.py:789\u001b[0m, in \u001b[0;36mget_handle\u001b[1;34m(path_or_buf, mode, encoding, compression, memory_map, is_text, errors, storage_options)\u001b[0m\n\u001b[0;32m    784\u001b[0m \u001b[38;5;28;01melif\u001b[39;00m \u001b[38;5;28misinstance\u001b[39m(handle, \u001b[38;5;28mstr\u001b[39m):\n\u001b[0;32m    785\u001b[0m     \u001b[38;5;66;03m# Check whether the filename is to be opened in binary mode.\u001b[39;00m\n\u001b[0;32m    786\u001b[0m     \u001b[38;5;66;03m# Binary mode does not support 'encoding' and 'newline'.\u001b[39;00m\n\u001b[0;32m    787\u001b[0m     \u001b[38;5;28;01mif\u001b[39;00m ioargs\u001b[38;5;241m.\u001b[39mencoding \u001b[38;5;129;01mand\u001b[39;00m \u001b[38;5;124m\"\u001b[39m\u001b[38;5;124mb\u001b[39m\u001b[38;5;124m\"\u001b[39m \u001b[38;5;129;01mnot\u001b[39;00m \u001b[38;5;129;01min\u001b[39;00m ioargs\u001b[38;5;241m.\u001b[39mmode:\n\u001b[0;32m    788\u001b[0m         \u001b[38;5;66;03m# Encoding\u001b[39;00m\n\u001b[1;32m--> 789\u001b[0m         handle \u001b[38;5;241m=\u001b[39m \u001b[38;5;28;43mopen\u001b[39;49m\u001b[43m(\u001b[49m\n\u001b[0;32m    790\u001b[0m \u001b[43m            \u001b[49m\u001b[43mhandle\u001b[49m\u001b[43m,\u001b[49m\n\u001b[0;32m    791\u001b[0m \u001b[43m            \u001b[49m\u001b[43mioargs\u001b[49m\u001b[38;5;241;43m.\u001b[39;49m\u001b[43mmode\u001b[49m\u001b[43m,\u001b[49m\n\u001b[0;32m    792\u001b[0m \u001b[43m            \u001b[49m\u001b[43mencoding\u001b[49m\u001b[38;5;241;43m=\u001b[39;49m\u001b[43mioargs\u001b[49m\u001b[38;5;241;43m.\u001b[39;49m\u001b[43mencoding\u001b[49m\u001b[43m,\u001b[49m\n\u001b[0;32m    793\u001b[0m \u001b[43m            \u001b[49m\u001b[43merrors\u001b[49m\u001b[38;5;241;43m=\u001b[39;49m\u001b[43merrors\u001b[49m\u001b[43m,\u001b[49m\n\u001b[0;32m    794\u001b[0m \u001b[43m            \u001b[49m\u001b[43mnewline\u001b[49m\u001b[38;5;241;43m=\u001b[39;49m\u001b[38;5;124;43m\"\u001b[39;49m\u001b[38;5;124;43m\"\u001b[39;49m\u001b[43m,\u001b[49m\n\u001b[0;32m    795\u001b[0m \u001b[43m        \u001b[49m\u001b[43m)\u001b[49m\n\u001b[0;32m    796\u001b[0m     \u001b[38;5;28;01melse\u001b[39;00m:\n\u001b[0;32m    797\u001b[0m         \u001b[38;5;66;03m# Binary mode\u001b[39;00m\n\u001b[0;32m    798\u001b[0m         handle \u001b[38;5;241m=\u001b[39m \u001b[38;5;28mopen\u001b[39m(handle, ioargs\u001b[38;5;241m.\u001b[39mmode)\n",
      "\u001b[1;31mFileNotFoundError\u001b[0m: [Errno 2] No such file or directory: '/content/gdrive/MyDrive/ind_nifty500list.csv'"
     ]
    }
   ],
   "source": [
    "# Reading the csv file containing top 500 companies on nifty. The file can be founded on https://www.nseindia.com/products-services/indices-nifty500-index\n",
    "\n",
    "import pandas as pd\n",
    "nse500=pd.read_csv('ind_nifty500list.csv')"
   ]
  },
  {
   "cell_type": "code",
   "execution_count": null,
   "metadata": {
    "colab": {
     "base_uri": "https://localhost:8080/",
     "height": 423
    },
    "id": "rqO-J6ojQRhB",
    "outputId": "d4211863-f262-42bf-abf5-6d06ef9d49f9"
   },
   "outputs": [],
   "source": [
    "# Here is the list of companies along with some additional information such as the Industry to which they belong, their symbol etc.\n",
    "nse500"
   ]
  },
  {
   "cell_type": "code",
   "execution_count": null,
   "metadata": {
    "colab": {
     "base_uri": "https://localhost:8080/"
    },
    "id": "hbIyGkvpTBeF",
    "outputId": "2b6fe3c8-2614-457f-e25a-5f8debb0ccc7"
   },
   "outputs": [],
   "source": [
    "# Analysing the number of companies from each Industry.\n",
    "nse500['Industry'].value_counts()"
   ]
  },
  {
   "cell_type": "markdown",
   "metadata": {
    "id": "h-fxtqxR_AB9"
   },
   "source": [
    "Clearly the maximum companies belong to financial services, followed by Capital goods, Healthcare , Chemicals , Automobiles and FMCG."
   ]
  },
  {
   "cell_type": "code",
   "execution_count": null,
   "metadata": {
    "id": "fNFcdSgWMnLf"
   },
   "outputs": [],
   "source": [
    "import numpy as np\n",
    "import matplotlib.pyplot as plt\n",
    "import yfinance as yf\n",
    "from pandas_datareader import data as pdr\n",
    "from datetime import datetime\n",
    "yf.pdr_override()\n",
    "from google.colab import files"
   ]
  },
  {
   "cell_type": "code",
   "execution_count": null,
   "metadata": {
    "id": "jajj7MB4TKVV"
   },
   "outputs": [],
   "source": [
    "# Creating a list of nifty 500 companies symbols to import their data from yfinance.\n",
    "list_of_stocks=[]\n",
    "for i in range(len(nse500)):\n",
    "  list_of_stocks.append(nse500['Symbol'][i] + '.NS')"
   ]
  },
  {
   "cell_type": "code",
   "execution_count": null,
   "metadata": {
    "colab": {
     "base_uri": "https://localhost:8080/"
    },
    "id": "N1_f2L9lTVuR",
    "outputId": "0acffaba-c48d-4f1f-becb-f8172be2f6bd"
   },
   "outputs": [],
   "source": [
    "list_of_stocks"
   ]
  },
  {
   "cell_type": "markdown",
   "metadata": {
    "id": "-Vn48oxH__SN"
   },
   "source": [
    "We will be analysing the post 2007 financial crisis data and pre COVID data so that no anamoly is introduced due to major external adverse factors.\n",
    "\n",
    "\n",
    "![Screenshot 2023-06-30 121015.png](data:image/png;base64,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)"
   ]
  },
  {
   "cell_type": "code",
   "execution_count": null,
   "metadata": {
    "id": "C5wTB6v3TYzX"
   },
   "outputs": [],
   "source": [
    "# Data to be extracted is taken from 2010 to 2019\n",
    "start_date = datetime(2010,1,1)\n",
    "end_date = datetime(2019,1,1)\n"
   ]
  },
  {
   "cell_type": "code",
   "execution_count": null,
   "metadata": {
    "colab": {
     "base_uri": "https://localhost:8080/"
    },
    "id": "W5cHcqZaTmHm",
    "outputId": "1e87c2b5-c1eb-4bab-b0f6-b50e927f2783"
   },
   "outputs": [],
   "source": [
    "from pandas_datareader import data as pdr\n",
    "stocks_data=[]\n",
    "\n",
    "for i in list_of_stocks:\n",
    "  stock=pdr.DataReader(i,start=start_date,end=end_date)\n",
    "  if len(stock)>0:\n",
    "    stocks_data.append(stock)"
   ]
  },
  {
   "cell_type": "markdown",
   "metadata": {
    "id": "mPYqwzM38uU2"
   },
   "source": []
  },
  {
   "cell_type": "code",
   "execution_count": null,
   "metadata": {
    "colab": {
     "base_uri": "https://localhost:8080/"
    },
    "id": "zULgY6qITpd5",
    "outputId": "0bdeb2b4-3dac-499e-ffde-be9b54268f92"
   },
   "outputs": [],
   "source": [
    "stocks_data"
   ]
  },
  {
   "cell_type": "code",
   "execution_count": null,
   "metadata": {
    "colab": {
     "base_uri": "https://localhost:8080/"
    },
    "id": "eNVgH3KmVDhq",
    "outputId": "79dddded-50b8-402e-e763-4687f39eae1f"
   },
   "outputs": [],
   "source": [
    "len(stocks_data)"
   ]
  },
  {
   "cell_type": "code",
   "execution_count": null,
   "metadata": {
    "colab": {
     "base_uri": "https://localhost:8080/",
     "height": 455
    },
    "id": "hVfUXxR9FWxK",
    "outputId": "82bff016-f8b0-44e9-96f2-d90065ef8a26"
   },
   "outputs": [],
   "source": [
    "stocks_data[0]"
   ]
  },
  {
   "cell_type": "code",
   "execution_count": null,
   "metadata": {
    "id": "GyN82hmoVHrF"
   },
   "outputs": [],
   "source": [
    "# taking data from 2010 to 2017 as training data and data after 2017 as test data\n",
    "\n",
    "date_division=datetime(2017,1,1)\n",
    "\n",
    "stocks_data_training=pd.DataFrame(index=stocks_data[0][:date_division].index)\n",
    "stocks_data_testing=pd.DataFrame(index=stocks_data[0][date_division:].index)"
   ]
  },
  {
   "cell_type": "code",
   "execution_count": null,
   "metadata": {
    "id": "wQVeIhLYWB--"
   },
   "outputs": [],
   "source": [
    "list_of_stocks_available=[]"
   ]
  },
  {
   "cell_type": "code",
   "execution_count": null,
   "metadata": {
    "colab": {
     "base_uri": "https://localhost:8080/"
    },
    "id": "joy5cNrLWEX6",
    "outputId": "3deb05bf-a7e7-4120-f975-8de397218f30"
   },
   "outputs": [],
   "source": [
    "for i in range(len(stocks_data)):\n",
    "  if len(stocks_data[i])==len(stocks_data[0]):\n",
    "    stocks_data_training['Adj Close '+ list_of_stocks[i]]=stocks_data[i]['Adj Close'][:date_division]\n",
    "    stocks_data_testing['Adj Close '+ list_of_stocks[i]]=stocks_data[i]['Adj Close'][date_division:]\n",
    "    list_of_stocks_available.append(list_of_stocks[i])"
   ]
  },
  {
   "cell_type": "code",
   "execution_count": null,
   "metadata": {
    "colab": {
     "base_uri": "https://localhost:8080/"
    },
    "id": "Tl0f2v0RWTH0",
    "outputId": "ddc34f24-4ad9-4070-a240-7220c3f3b6cd"
   },
   "outputs": [],
   "source": [
    "print(len(stocks_data_training.columns))\n",
    "print(len(stocks_data_testing.columns))\n",
    "stocks_data_training=stocks_data_training.T"
   ]
  },
  {
   "cell_type": "code",
   "execution_count": null,
   "metadata": {
    "colab": {
     "base_uri": "https://localhost:8080/",
     "height": 661
    },
    "id": "m4XgvkmH8COm",
    "outputId": "1cacb389-a228-49e6-9a4b-1fd3f06c17a1"
   },
   "outputs": [],
   "source": [
    "stocks_data_training"
   ]
  },
  {
   "cell_type": "code",
   "execution_count": null,
   "metadata": {
    "colab": {
     "base_uri": "https://localhost:8080/",
     "height": 209
    },
    "id": "99-vCjN98CfU",
    "outputId": "157723c3-708b-4b00-9ab4-04ff566f5a13"
   },
   "outputs": [],
   "source": [
    "stocks_data_training[stocks_data_training.isna().any(axis=1)]"
   ]
  },
  {
   "cell_type": "code",
   "execution_count": null,
   "metadata": {
    "colab": {
     "base_uri": "https://localhost:8080/",
     "height": 661
    },
    "id": "6WY1IODt8Cus",
    "outputId": "da3a0dc5-37ab-46c5-c5ac-f4a4245cb35b"
   },
   "outputs": [],
   "source": [
    "stocks_data_training.dropna()"
   ]
  },
  {
   "cell_type": "code",
   "execution_count": null,
   "metadata": {
    "id": "sj-2DimnGoCZ"
   },
   "outputs": [],
   "source": [
    "stocks_data_testing=stocks_data_testing.T"
   ]
  },
  {
   "cell_type": "code",
   "execution_count": null,
   "metadata": {
    "id": "GdndRlsNGoJv"
   },
   "outputs": [],
   "source": [
    "stocks_data_training=stocks_data_training.drop(['Adj Close ESCORTS.NS'])"
   ]
  },
  {
   "cell_type": "code",
   "execution_count": null,
   "metadata": {
    "id": "8xU4CAjKGoRW"
   },
   "outputs": [],
   "source": [
    "stocks_data_testing=stocks_data_testing.drop(['Adj Close ESCORTS.NS'])"
   ]
  },
  {
   "cell_type": "code",
   "execution_count": null,
   "metadata": {
    "colab": {
     "base_uri": "https://localhost:8080/",
     "height": 661
    },
    "id": "5WKaP2LdGoVk",
    "outputId": "83b1cefb-1e90-4fd5-ad80-9d8b6f2f8f0e"
   },
   "outputs": [],
   "source": [
    "stocks_data_training"
   ]
  },
  {
   "cell_type": "code",
   "execution_count": null,
   "metadata": {
    "colab": {
     "base_uri": "https://localhost:8080/",
     "height": 661
    },
    "id": "IRtByimiGodn",
    "outputId": "4db93129-98fb-41e0-bf3c-0051985c15c1"
   },
   "outputs": [],
   "source": [
    "stocks_data_testing"
   ]
  },
  {
   "cell_type": "code",
   "execution_count": null,
   "metadata": {
    "colab": {
     "base_uri": "https://localhost:8080/"
    },
    "id": "mAHwbnPrWXvW",
    "outputId": "f5eb8407-aeff-4ab6-a565-fc90517ed6a6"
   },
   "outputs": [],
   "source": [
    "from sklearn.preprocessing import MinMaxScaler\n",
    "\n",
    "scaler=MinMaxScaler()\n",
    "scaled_stocks_data_training=scaler.fit_transform(stocks_data_training)\n",
    "scaled_stocks_data_testing=scaler.fit_transform(stocks_data_testing)\n",
    "\n",
    "scaled_stocks_data_training"
   ]
  },
  {
   "cell_type": "code",
   "execution_count": null,
   "metadata": {
    "id": "eOIwChZLWc-b"
   },
   "outputs": [],
   "source": [
    "#Defining function for calculating Mean Squared Error\n",
    "\n",
    "def mse(data):\n",
    "  d=data.T\n",
    "  d1=np.tile(d,(d.shape[0],1,1))\n",
    "  d2=np.tile(d,(1,1,d.shape[0])).reshape(d.shape[0],d.shape[0],d.shape[1])\n",
    "\n",
    "  mse=d1-d2\n",
    "  mse=mse**2\n",
    "  mse=np.mean(mse,2)\n",
    "\n",
    "  return mse"
   ]
  },
  {
   "cell_type": "code",
   "execution_count": null,
   "metadata": {
    "id": "0pobProo4UHE"
   },
   "outputs": [],
   "source": [
    "#Finding Pairs through minimal MSE between stocks\n",
    "\n",
    "mse_training_matrix=mse(scaled_stocks_data_training)\n",
    "print(mse_training_matrix.shape)\n",
    "\n",
    "threshold=0.005\n",
    "\n",
    "a=np.where(mse_training_matrix<threshold,mse_training_matrix,-1)\n",
    "arr_x=[]\n",
    "arr_y=[]\n",
    "for i in range(a.shape[0]):\n",
    "  for j in range(i+1, a.shape[1]):\n",
    "    if (a[i][j]!=-1):\n",
    "      arr_x.append(i)\n",
    "      arr_y.append(j)\n",
    "arr_x=np.array(arr_x)\n",
    "mse_pairs=[[i, j] for i, j in zip(arr_x, arr_y)]\n",
    "print('Total number of MSE pairs = ',len(mse_pairs))"
   ]
  },
  {
   "cell_type": "code",
   "execution_count": null,
   "metadata": {
    "id": "pz-3Ujkr61Lw"
   },
   "outputs": [],
   "source": [
    "#COINTEGRATION\n",
    "import statsmodels.tsa.stattools as smts\n",
    "import statsmodels.api as sm\n",
    "\n",
    "def cointegration_pairs(df, non_stationary_cutoff = 0.05, coint_cutoff = 0.05, intercept = False, sig_level = 0.01):\n",
    "\n",
    "    \"\"\"\n",
    "    df: is a 2d pandas dataframe or numpy array\n",
    "    non_stationary_cutoff: if p value of the time series is >= this cutoff,\n",
    "                            then the time series is non stationary.\n",
    "                            ADFuller test is done to test if the time series\n",
    "                            is stationary or not.\n",
    "    coint_cutoff: if p value of the time series is < this cutoff, then\n",
    "                    the two time series will be cointegrated.\n",
    "                    Augmented engle-granger two-step cointegration test\n",
    "                    is done to test if the pair is cointegrated.\n",
    "\n",
    "    specify sig_level if intercept==True\n",
    "    \"\"\"\n",
    "\n",
    "    if (isinstance(df, np.ndarray) == False):\n",
    "        df = df.values\n",
    "\n",
    "    #Finding Non Stationary Pairs\n",
    "    non_stationary_stocks = []\n",
    "    stationary_stocks = []\n",
    "    for i in range(df.shape[1]):\n",
    "        a = np.ravel(df[:,i])\n",
    "        if smts.adfuller(a)[1] >= non_stationary_cutoff:\n",
    "            non_stationary_stocks.append(i)\n",
    "        else:\n",
    "            stationary_stocks.append(i)\n",
    "\n",
    "    print('Total number of non stationary series are = ', len(non_stationary_stocks))\n",
    "    print(non_stationary_stocks)\n",
    "    print('Total number of stationary series are = ', len(stationary_stocks))\n",
    "    print(stationary_stocks)\n",
    "\n",
    "    #Finding cointegrated pairs\n",
    "    coint_pairs = []\n",
    "    pvalues = []\n",
    "    for i in range(len(non_stationary_stocks)):\n",
    "        for j in range(i+1, len(non_stationary_stocks)):\n",
    "            if not intercept:\n",
    "                a = np.ravel(df[:,non_stationary_stocks[i]])\n",
    "                b = np.ravel(df[:,non_stationary_stocks[j]])\n",
    "                k = smts.coint(a,b)[1]\n",
    "                if k < coint_cutoff:\n",
    "                    coint_pairs.append([non_stationary_stocks[i], non_stationary_stocks[j]])\n",
    "                    pvalues.append(k)\n",
    "\n",
    "            else:\n",
    "                Y = np.ravel(df[:,non_stationary_stocks[i]])\n",
    "                X = np.ravel(df[:,non_stationary_stocks[j]])\n",
    "                X = sm.add_constant(X)\n",
    "\n",
    "                model = sm.OLS(Y, X)\n",
    "                results = model.fit()\n",
    "                intercept, slope = results.params\n",
    "\n",
    "                p_value = smts.adfuller(results.resid)[1]\n",
    "\n",
    "                if p_value < sig_level and slope > 0:\n",
    "                    coint_pairs.append([non_stationary_stocks[i], non_stationary_stocks[j]])\n",
    "                    pvalues.append(p_value)\n",
    "\n",
    "    coint_pairs = np.array(coint_pairs)\n",
    "    pvalues = np.array(pvalues)\n",
    "\n",
    "    argsort = np.argsort(pvalues)\n",
    "    sorted_coint_pairs = []\n",
    "    sorted_pvalues = []\n",
    "    for i in argsort:\n",
    "        sorted_pvalues.append(pvalues[i])\n",
    "        sorted_coint_pairs.append(coint_pairs[i])\n",
    "\n",
    "    sorted_coint_pairs = np.array(sorted_coint_pairs)\n",
    "    sorted_pvalues = np.values = np.array(sorted_pvalues)\n",
    "\n",
    "    return sorted_coint_pairs, sorted_pvalues"
   ]
  },
  {
   "cell_type": "code",
   "execution_count": null,
   "metadata": {
    "id": "D3fKUIGI7o76"
   },
   "outputs": [],
   "source": [
    "#Cointegration before clustering\n",
    "\n",
    "coint_pairs, coint_pvalues = cointegration_pairs(scaled_stocks_data_training, 0.05, 0.01)\n",
    "print(len(coint_pairs))\n",
    "print(coint_pairs)"
   ]
  },
  {
   "cell_type": "code",
   "execution_count": null,
   "metadata": {
    "id": "Jpw_ogK_IuMn"
   },
   "outputs": [],
   "source": [
    "#Appling Principal Components Ananlysis to reduce dimentionality of the scaled training stock data\n",
    "\n",
    "from sklearn.decomposition import PCA\n",
    "\n",
    "pca=PCA(n_components=10)  #Reducing dimentionality of stock data at particular dates to 10\n",
    "returns_PCA=pca.fit_transform(stocks_data_training.values.transpose())"
   ]
  },
  {
   "cell_type": "code",
   "execution_count": null,
   "metadata": {
    "id": "NVGkI47vIuRR"
   },
   "outputs": [],
   "source": [
    "from sklearn.cluster import OPTICS\n",
    "\n",
    "optics = OPTICS(min_samples=5)\n",
    "optics.fit(returns_PCA)\n",
    "\n",
    "cluster_labels = optics.labels_ # dtype = list, index is asset\n",
    "num_clusters = len(set(cluster_labels)) # number of clusters\n",
    "all_clusters = np.unique(cluster_labels) # all cluster labels\n",
    "\n",
    "# put every asset under its cluster label, in a dict asset_cluster_dict:\n",
    "#  key: cluster label, dtype = int\n",
    "#  value: asset indicies, dtype = list (of int)\n",
    "cluster_asset_dict = {label: [] for label in all_clusters}\n",
    "for asset_index, label in enumerate(cluster_labels):\n",
    "    cluster_asset_dict[label].append(asset_index)\n",
    "\n",
    "# values for clusters and assets for further analysis, without the noise cluster\n",
    "## all cluster labels, not including the noise cluster\n",
    "clusters_no_noise = np.delete(all_clusters, np.where(all_clusters == -1))\n",
    "## all clusters' size, not including the noise cluster\n",
    "cluster_size_no_noise = [len(cluster_asset_dict[cluster])\n",
    "                         for cluster in clusters_no_noise]\n",
    "## all assets that are not in the noise cluster\n",
    "available_assets = []\n",
    "for cluster in clusters_no_noise:\n",
    "    available_assets += cluster_asset_dict[cluster]"
   ]
  },
  {
   "cell_type": "code",
   "execution_count": null,
   "metadata": {
    "id": "Lo-evC98Izud"
   },
   "outputs": [],
   "source": [
    "#Testing if optics worked correctly\n",
    "print(cluster_size_no_noise)\n",
    "\n",
    "all_assets = []\n",
    "for cluster in all_clusters:\n",
    "    all_assets += cluster_asset_dict[cluster]\n",
    "\n",
    "print(len(all_assets))"
   ]
  },
  {
   "cell_type": "code",
   "execution_count": null,
   "metadata": {
    "id": "INf1c48tIzx_"
   },
   "outputs": [],
   "source": [
    "# bar plot\n",
    "plt.figure(dpi=100)\n",
    "plt.bar(clusters_no_noise, cluster_size_no_noise)\n",
    "plt.xlabel('Cluster Label')\n",
    "plt.ylabel('Num of Assets in Cluster')\n",
    "plt.title('Without The Noise Cluster. Total Asset = {}'.format(len(available_assets)))\n",
    "plt.show()\n",
    "\n",
    "# cluster w.r.t. the two principle components\n",
    "colors = {cluster: np.random.rand(3) for cluster in clusters_no_noise}\n",
    "plt.figure(dpi=100)\n",
    "for asset in available_assets:\n",
    "    plt.scatter(returns_PCA[asset, 0], returns_PCA[asset, 1], s=10,\n",
    "                color=colors[cluster_labels[asset]])\n",
    "\n",
    "plt.title('First 2 PC for returns. Cluster in same color')\n",
    "plt.show()\n"
   ]
  },
  {
   "cell_type": "code",
   "execution_count": null,
   "metadata": {
    "id": "SxZGFvGoIz0O"
   },
   "outputs": [],
   "source": [
    "#Cointergration after Clustering\n",
    "\n",
    "transposed_scaled_training_stock_data=scaled_stocks_data_training.T\n",
    "transposed_scaled_test_stock_data=scaled_stocks_data_testing.T\n",
    "\n",
    "cluster_training=[]\n",
    "cluster_test=[]\n",
    "coint_pairs_clustering=[]\n",
    "coint_pvalues_clustering=[]\n",
    "for i in range(num_clusters):\n",
    "  cluster_training.append(transposed_scaled_training_stock_data[cluster_asset_dict[list(cluster_asset_dict.keys())[i]]].T)\n",
    "  cluster_test.append(transposed_scaled_test_stock_data[cluster_asset_dict[list(cluster_asset_dict.keys())[i]]].T)\n",
    "  if(i>0):\n",
    "    print(\"CLUSTER \",i)\n",
    "    c1,c2=cointegration_pairs(cluster_training[i], 0.05, 0.01)\n",
    "    coint_pairs_clustering.append(c1)\n",
    "    coint_pvalues_clustering.append(c2)\n",
    "\n",
    "#For more pairs, change coint_coefficient in cointegration function to 0.1 from 0.05"
   ]
  },
  {
   "cell_type": "code",
   "execution_count": null,
   "metadata": {
    "id": "C4v-LCfUIz3U"
   },
   "outputs": [],
   "source": [
    "#Making graphs of pairs found after cointegration\n",
    "\n",
    "index=0;\n",
    "for i in coint_pairs_clustering:\n",
    "  print(i)\n",
    "  for j in i:\n",
    "    for k in j:\n",
    "      print(cluster_asset_dict[index][k])\n",
    "      print(nse500['Symbol'][cluster_asset_dict[index][k]])\n",
    "      plt.plot(stocks_data_training.T.iloc[cluster_asset_dict[index][k]])\n",
    "    plt.show()\n",
    "  index=index+1"
   ]
  },
  {
   "cell_type": "code",
   "execution_count": null,
   "metadata": {
    "id": "0aJgdp0nIz5G"
   },
   "outputs": [],
   "source": [
    "#MSE after Clustering\n",
    "threshold=0.015\n",
    "mse_pairs_clustering=[]\n",
    "\n",
    "for k in range(num_clusters):\n",
    "  mse_training_matrix = mse(cluster_training[k])\n",
    "  a=np.where(mse_training_matrix < threshold, mse_training_matrix, 4)\n",
    "  arr_x=[]\n",
    "  arr_y=[]\n",
    "  for i in range(a.shape[0]):\n",
    "    for j in range(i+1, a.shape[1]):\n",
    "      if (a[i][j]!=4):\n",
    "        arr_x.append(i)\n",
    "        arr_y.append(j)\n",
    "  arr_x=np.array(arr_x)\n",
    "  mse_pairs_found=[[i, j] for i, j in zip(arr_x, arr_y)]\n",
    "  mse_pairs_clustering.append(mse_pairs_found)\n",
    "  if k>0:\n",
    "    print('Total number of mse pairs in cluster using MSE',k,' = ',len(mse_pairs_clustering[k]))"
   ]
  },
  {
   "cell_type": "code",
   "execution_count": null,
   "metadata": {
    "id": "5T87-8kWIz7B"
   },
   "outputs": [],
   "source": []
  }
 ],
 "metadata": {
  "colab": {
   "provenance": []
  },
  "kernelspec": {
   "display_name": "Python 3 (ipykernel)",
   "language": "python",
   "name": "python3"
  },
  "language_info": {
   "codemirror_mode": {
    "name": "ipython",
    "version": 3
   },
   "file_extension": ".py",
   "mimetype": "text/x-python",
   "name": "python",
   "nbconvert_exporter": "python",
   "pygments_lexer": "ipython3",
   "version": "3.9.12"
  }
 },
 "nbformat": 4,
 "nbformat_minor": 1
}
